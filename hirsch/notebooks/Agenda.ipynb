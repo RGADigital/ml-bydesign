{
 "cells": [
  {
   "cell_type": "markdown",
   "metadata": {},
   "source": [
    "# R/GA by Design Hackday - Beyond Rules with NLP\n",
    "\n",
    "Thanks for choosing the Natural Language Processing project! This notebook will serve as your guide during your project. \n",
    "\n",
    "\n",
    "## Contents\n",
    "* Goals\n",
    "* Agenda\n",
    "* Introductory concepts in NLP\n",
    "* Data processing for supplied corpora.\n",
    "* Step by step guide to sentence classification (sentiment analysis).\n",
    "* preliminary examples for topic modelling using LDA.\n",
    "\n",
    "## Goals:\n",
    "* Learn how to create a problem statement and an execution plan.\n",
    "* Familiarize yourself with the basic concepts, challenges, opportunities, and methods of NLP.\n",
    "* Understand how NLP can be used in your work.\n",
    "* Collectively spec a prototype.\n",
    "\n",
    "\n",
    "## Agenda\n",
    "\n",
    "#### What is NLP?  (60 minutes):\n",
    "\n",
    "* Deck (20 min) - technical / landscape\n",
    "* Examples (20 min) - play around with example applications.\n",
    "* Reflect - What role does text play in your work and how can NLP support this? (10 min)\n",
    "  * how do you use text in your work?\n",
    "  * how could this be relevant?\n",
    "  * how can this technological affordance be used for something innovative? \n",
    "* Read through and discuss introductory material around NLP concepts. (10 min)\n",
    "* Clone the repo or download the repo as a zip, alternatively read docs online.\n",
    "  * If you do not have admin rights, find someone on your team who does or follow along with Michael.\n",
    "\n",
    "#### Project Planning (30+30+45 minutes):\n",
    "\n",
    "* Brainstorm (30 min) - Put together a bunch of ideas - from simple to moonshot.\n",
    "* Present (30 min) - Present 3 best ideas to the group.\n",
    "  * discuss with others around feasibility.\n",
    "  * settle on 1 idea.\n",
    "* Nail down a brief and an execution plan. (20 min)\n",
    "  * Detail what you will and *wont* do.\n",
    "* Gather inspirational material from personal archives or included resources list. (5 min)\n",
    "* Dole out tasks, consult with Michael on what it will take to build this thing. (20 min)\n",
    "* Thing to consider:\n",
    "  * Who do you need on your team?\n",
    "  * Why is NLP an important ingredient in your solution?\n",
    "  * What data do you need to get started?\n",
    "  * How is the technology manifested in the deliverable?\n",
    "\n",
    "#### Working (40+10+40 minutes):\n",
    "\n",
    "* Working session (40 min)\n",
    "* \"Client\" Review (10 min)\n",
    "* Working session (40 min)\n",
    "\n",
    "#### Wrap-up and presentation gathering (15 min)\n",
    "* Prepare for 17:15 regroup with the larger group.\n"
   ]
  }
 ],
 "metadata": {
  "kernelspec": {
   "display_name": "Python 2",
   "language": "python",
   "name": "python2"
  },
  "language_info": {
   "codemirror_mode": {
    "name": "ipython",
    "version": 2
   },
   "file_extension": ".py",
   "mimetype": "text/x-python",
   "name": "python",
   "nbconvert_exporter": "python",
   "pygments_lexer": "ipython2",
   "version": "2.7.10"
  }
 },
 "nbformat": 4,
 "nbformat_minor": 1
}
