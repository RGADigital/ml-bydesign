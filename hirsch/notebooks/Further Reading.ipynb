{
 "cells": [
  {
   "cell_type": "markdown",
   "metadata": {},
   "source": [
    "# Experiment and Inspiration\n",
    "\n",
    "https://alchemy-language-demo.mybluemix.net/\n",
    "\n",
    "https://www.houndify.com/dashboard\n",
    "\n",
    "https://spacy.io/docs/usage/showcase\n",
    "\n",
    "https://twitter.com/deepdrumpf?lang=en\n",
    "\n",
    "https://twitter.com/hellokydo/with_replies\n",
    "\n",
    "http://text-processing.com/demo/stem/\n",
    "\n",
    "http://nlp.stanford.edu:8080/ner/process\n",
    "\n",
    "http://cogcomp.cs.illinois.edu/page/demo_view/dataless\n",
    "\n",
    "http://www.visuwords.com/\n",
    "\n",
    "# Deep Learning & Embeddings\n",
    "\n",
    "https://erikbern.com/2014/06/28/recurrent-neural-networks-for-collaborative-filtering/\n",
    "\n",
    "https://rare-technologies.com/making-sense-of-word2vec/\n",
    "\n",
    "http://textminingonline.com/getting-started-with-word2vec-and-glove-in-python\n",
    "\n",
    "http://www.wildml.com/\n",
    "\n",
    "http://colah.github.io/posts/2014-07-NLP-RNNs-Representations/\n",
    "\n",
    "https://maraoz.com/2016/02/02/abc-rnn/\n",
    "\n",
    "https://rare-technologies.com/deep-learning-with-word2vec-and-gensim/\n",
    "\n",
    "https://www.tensorflow.org/versions/r0.11/tutorials/word2vec/index.html#vector-representations-of-words\n",
    "\n",
    "# Processing Libraries\n",
    "\n",
    "https://textblob.readthedocs.io/en/dev/\n",
    "\n",
    "https://spacy.io/\n",
    "\n",
    "\n",
    "\n",
    "# Classification\n",
    "\n",
    "https://districtdatalabs.silvrback.com/modern-methods-for-sentiment-analysis\n",
    "\n",
    "http://sentiment.christopherpotts.net/\n",
    "\n",
    "# Bots\n",
    "\n",
    "http://www.hugeinc.com/ideas/perspective/read-this-before-you-build-that-chatbot\n",
    "\n",
    "https://blog.intercom.com/principles-bot-design/\n",
    "\n",
    "https://chatbotslife.com/3-simple-ai-tricks-to-make-your-chatbot-more-responsive-and-1-non-ai-one-24e94d45caa1#.er5quy5xh\n",
    "\n",
    "\n",
    "# General\n",
    "\n",
    "https://medium.com/intelligentdesign\n",
    "\n",
    "https://botwiki.org/tutorials/machine-learning-nlp-ai/\n"
   ]
  },
  {
   "cell_type": "code",
   "execution_count": null,
   "metadata": {
    "collapsed": true
   },
   "outputs": [],
   "source": []
  }
 ],
 "metadata": {
  "kernelspec": {
   "display_name": "Python 2",
   "language": "python",
   "name": "python2"
  },
  "language_info": {
   "codemirror_mode": {
    "name": "ipython",
    "version": 2
   },
   "file_extension": ".py",
   "mimetype": "text/x-python",
   "name": "python",
   "nbconvert_exporter": "python",
   "pygments_lexer": "ipython2",
   "version": "2.7.10"
  }
 },
 "nbformat": 4,
 "nbformat_minor": 1
}
